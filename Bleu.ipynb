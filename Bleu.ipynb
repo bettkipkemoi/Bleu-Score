{
 "cells": [
  {
   "cell_type": "markdown",
   "id": "4bbca084",
   "metadata": {},
   "source": [
    "Bleu (Bilingual evaluation understudy) can be defined as the "
   ]
  }
 ],
 "metadata": {
  "kernelspec": {
   "display_name": "Python 3 (ipykernel)",
   "language": "python",
   "name": "python3"
  },
  "language_info": {
   "codemirror_mode": {
    "name": "ipython",
    "version": 3
   },
   "file_extension": ".py",
   "mimetype": "text/x-python",
   "name": "python",
   "nbconvert_exporter": "python",
   "pygments_lexer": "ipython3",
   "version": "3.11.5"
  }
 },
 "nbformat": 4,
 "nbformat_minor": 5
}
